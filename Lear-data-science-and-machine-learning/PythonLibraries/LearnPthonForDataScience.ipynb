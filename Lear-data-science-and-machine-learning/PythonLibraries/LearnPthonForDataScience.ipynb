{
 "cells": [
  {
   "cell_type": "markdown",
   "id": "7537666c",
   "metadata": {},
   "source": [
    "Variable in python \n"
   ]
  },
  {
   "cell_type": "code",
   "execution_count": 6,
   "id": "c4fedb7b",
   "metadata": {},
   "outputs": [],
   "source": [
    "age = 23\n",
    "name =\"sudesh\"\n",
    "sirname=\"bagawe\""
   ]
  },
  {
   "cell_type": "markdown",
   "id": "892b3118",
   "metadata": {},
   "source": [
    "Python reserne keywords \n",
    "\n",
    "False, None, True, and, as, assert, break, class, continue,\n",
    "def, del, elif, else, except, finally, for, from, global,\n",
    "if, import, in, is, lambda, nonlocal, not, or, pass, raise,\n",
    "return, try, while, with, yield\n"
   ]
  },
  {
   "cell_type": "markdown",
   "id": "053ffab1",
   "metadata": {},
   "source": [
    "DataTypes && Opearator -In-Depth \n",
    "\n",
    "type         example                    Description \n",
    "\n",
    "int          5,-3,5000                  whole number\n",
    "float        3.14,-0.1                  Decimal  number\n",
    "str          \"Sudesh\"                   Text /String value \n",
    "bool         True /False                Boolean or  logical  value \n",
    "list         [1,2,3,4]                  Ordered Mutable collection\n",
    "tuple        (1,2,3,4)                  Order Immutable Collection\n",
    "set          {4,5,6,7,8}                Unordere unique Values\n",
    "dict         {\"name\":\"sudesh\"}          Key-value pairs \n"
   ]
  },
  {
   "cell_type": "code",
   "execution_count": null,
   "id": "ffd7c644",
   "metadata": {},
   "outputs": [
    {
     "data": {
      "text/plain": [
       "str"
      ]
     },
     "execution_count": 28,
     "metadata": {},
     "output_type": "execute_result"
    }
   ],
   "source": [
    "x= 45 \n",
    "type(x)  ##INT\n",
    "\n",
    "## You can convert string to int\n",
    "x= str(x) ## str\n",
    "x= int(str(x)) \n",
    "type(x)   ## int\n",
    "\n",
    "## You can convert str to float\n",
    "r = \"747.25\" ## str\n",
    "r= float(r)\n",
    "type(r)\n",
    "\n",
    "## you also can convert int / string \"1/0\" to bool\n",
    "b= \"1\"\n",
    "b=bool(b)\n",
    "type(b)\n",
    "\n",
    "## int to string \n",
    "x= str(x)\n",
    "type(x)"
   ]
  },
  {
   "cell_type": "markdown",
   "id": "8d887595",
   "metadata": {},
   "source": [
    "Operators in Python:\n",
    "\n",
    "Their have three main type of  operators\n",
    "1. Arithmatic Operators\n",
    "2. Logical Operators    \n",
    "3. Comparision Operators"
   ]
  },
  {
   "cell_type": "code",
   "execution_count": null,
   "id": "93182434",
   "metadata": {},
   "outputs": [],
   "source": [
    "## Arathmetic Operators\n",
    "print(5+6)\n",
    "print(5-6)\n",
    "print(5*6)\n",
    "print(5/6)\n",
    "print(5%6)\n",
    "print(5**6)\n",
    "print(5//6)\n",
    "print(\"\\n\")\n",
    "\n",
    "## Comparison Operators\n",
    "print(5>6)\n",
    "print(5<6)\n",
    "print(5==6)\n",
    "print(5!=6)\n",
    "print(5>=6)\n",
    "print(5<=6)\n",
    "print(\"\\n\")\n",
    "\n",
    "## Logical Operators\n",
    "print(True and False)\n",
    "print(True or False)\n",
    "print(not True)"
   ]
  },
  {
   "cell_type": "code",
   "execution_count": null,
   "id": "a3b03450",
   "metadata": {},
   "outputs": [],
   "source": [
    "## Integer and Float Operations\n",
    "\n",
    "a=10\n",
    "b=3\n",
    "\n",
    "print(a+b)\n",
    "print(a/b)\n",
    "print(a*b)"
   ]
  },
  {
   "cell_type": "code",
   "execution_count": null,
   "id": "939a4d64",
   "metadata": {},
   "outputs": [],
   "source": [
    "\n",
    "##string Operations \n",
    "\n",
    "s1= \"Sudesh\"\n",
    "s2 = \"Bagawe\"\n",
    "\n",
    "#Concatination \n",
    "print(s1 + ' ' + s2)\n",
    "#Repitation\n",
    "print(s1 * 3 )\n",
    "#Indexing \n",
    "print(s1[0])\n",
    "#slicing \n",
    "print(s1[1:5])\n",
    "#Lenght\n",
    "print (len(s1))\n",
    "#membership\n",
    "print(\"s\" in s1)\n",
    "print(\"s\" not in s1)\n"
   ]
  },
  {
   "cell_type": "code",
   "execution_count": null,
   "id": "7414dc4c",
   "metadata": {},
   "outputs": [],
   "source": [
    "#List Operations\n",
    "\n",
    "colors =[\"Red\",\"Yellow\",\"Blue\",\"White\",\"purple\"]\n",
    "#Accesing Colors \n",
    "print(colors[0])\n",
    "\n",
    "#slicing List\n",
    "print(colors[0:3]) \n",
    "\n",
    "#Adding \n",
    "colors.append(\"Test\")\n",
    "print(colors)\n",
    "\n",
    "#inserting \n",
    "colors.insert(1,\"Orange\")\n",
    "print(colors)\n",
    "\n",
    "#removing \n",
    "colors.remove(\"Test\")\n",
    "print(colors)\n",
    "\n",
    "#sorting \n",
    "colors.sort()\n",
    "print(colors)\n",
    "\n",
    "##removving last elmnt\n",
    "colors.pop()\n",
    "print(colors)\n",
    "\n",
    "#Length\n",
    "print(len(colors))\n",
    "\n",
    "# useful list menthods\n",
    "\n",
    "numbers =[1,2,3,4,5,8,7]\n",
    "numbers.sort()\n",
    "numbers.reverse()\n",
    "numbers.extend([100,200])\n",
    "print(numbers)\n",
    "\n",
    "number2 =[]\n",
    "number2= list(numbers)\n",
    "print(number2)\n",
    "\n",
    "number3 =[1,2,3,[4,5,6]]\n",
    "print(number3[3][0])\n"
   ]
  },
  {
   "cell_type": "code",
   "execution_count": null,
   "id": "3791f582",
   "metadata": {},
   "outputs": [],
   "source": [
    "#TUple  Opearations Tuples  are like list but they are immutable \n",
    "dimentions =(1,2,3,4)\n",
    "#access\n",
    "print(dimentions[0])\n",
    "\n",
    "#slicing \n",
    "print(dimentions[0:2])\n",
    "\n",
    "#Length\n",
    "print(len(dimentions))\n",
    "\n",
    "#Cnnot change  or  append to the  tuple \n",
    "# dimentions[0]=25 #Cnnot change  or  append to the  tuple  "
   ]
  },
  {
   "cell_type": "code",
   "execution_count": null,
   "id": "98c1ef4c",
   "metadata": {},
   "outputs": [],
   "source": [
    "#Set Oprations \n",
    "\n",
    "Table = {2,4,6,8}\n",
    "Table2 ={4,8,12,16}\n",
    "#print set\n",
    "print(Table)\n",
    "\n",
    "#Access By indexing\n",
    "Table.add(5) \n",
    "print(Table)\n",
    "\n",
    "#remove\n",
    "Table.remove(5)\n",
    "print(Table)\n",
    "\n",
    "#Union\n",
    "print(Table.union(Table2))\n",
    "print(Table|Table2)\n",
    "\n",
    "#Intersection\n",
    "print(Table.intersection(Table2))\n",
    "\n",
    "#Diffrence \n",
    "print(Table - Table2)\n",
    "print(Table2.difference(Table))\n"
   ]
  },
  {
   "cell_type": "markdown",
   "id": "58512da0",
   "metadata": {},
   "source": [
    "Dictionnary Opearations\n"
   ]
  },
  {
   "cell_type": "code",
   "execution_count": null,
   "id": "0b864fe3",
   "metadata": {},
   "outputs": [],
   "source": [
    "\n",
    "profile= {\n",
    "    \"name\": \"Sudesh\",\n",
    "    \"age\": 23,\n",
    "    \"country\": \"Ethiopia\"\n",
    "}\n",
    "##accessng \n",
    "print(profile[\"name\"])\n",
    "\n",
    "##adding new  key value pair\n",
    "profile[\"Email\"] =\"sudeshbagawe.com\"\n",
    "print(profile[\"Email\"])\n",
    "\n",
    "#update value\n",
    "profile[\"name\"] =\"sid\"\n",
    "print(profile[\"name\"])\n",
    "\n",
    "#Removing key\n",
    "profile.pop(\"Email\")\n",
    "print(profile)\n",
    "\n",
    "#Print keya and value pair separat\n",
    "print(profile.keys())\n",
    "print(profile.values())\n",
    "\n",
    "for key , value in profile.items():\n",
    "    print(key , '=>>>' , value)\n",
    "    if(profile.setdefault(\"name\")):\n",
    "        print(\"name exist\")"
   ]
  },
  {
   "cell_type": "markdown",
   "id": "e175f4f5",
   "metadata": {},
   "source": [
    " Tuple Basics"
   ]
  },
  {
   "cell_type": "code",
   "execution_count": null,
   "id": "9384a9b9",
   "metadata": {},
   "outputs": [],
   "source": [
    "#creating a tuple\n",
    "tuple1=(1,2)\n",
    "type(tuple1) # tuple\n",
    "tuple2=(1)\n",
    "type(tuple2) #in\n",
    "\n",
    "tuple2 =(1,) #need to have ,\n",
    "type(tuple2) \n",
    "\n",
    "print(tuple1[0])\n",
    "print(tuple1[-1])\n",
    "\n",
    "print(tuple1[0:2]) # last index was not countable\n",
    "\n",
    "#Tuple Unpacking \n",
    "person ={\"sudesh\",22,\"sde\"}\n",
    "name , age, profile = person\n",
    "print(name)\n"
   ]
  },
  {
   "cell_type": "code",
   "execution_count": null,
   "id": "81c48310",
   "metadata": {},
   "outputs": [],
   "source": [
    "for key in range(5):\n",
    "    print(key )\n",
    "    print('\\n')\n",
    "    \n",
    "for key in range(1,6):\n",
    "    print(key)\n"
   ]
  },
  {
   "cell_type": "code",
   "execution_count": 65,
   "id": "97ca9318",
   "metadata": {},
   "outputs": [],
   "source": [
    "#While Loop\n",
    "count = 4\n",
    "while key < count:\n",
    "    print(key)\n",
    "    key = key +1 "
   ]
  },
  {
   "cell_type": "markdown",
   "id": "90c2458f",
   "metadata": {},
   "source": [
    "Functions in  Python "
   ]
  },
  {
   "cell_type": "code",
   "execution_count": 70,
   "id": "ed158b5b",
   "metadata": {},
   "outputs": [
    {
     "name": "stdout",
     "output_type": "stream",
     "text": [
      "Hello From Sudesh Bagawe\n"
     ]
    }
   ],
   "source": [
    "def greetingFromSudesh(message):\n",
    "    print(\"%s %s\" %('Hello',message))\n",
    "\n",
    "greetingFromSudesh(\"From Sudesh Bagawe\")"
   ]
  },
  {
   "cell_type": "code",
   "execution_count": null,
   "id": "cd804f76",
   "metadata": {},
   "outputs": [
    {
     "name": "stdout",
     "output_type": "stream",
     "text": [
      "8\n"
     ]
    }
   ],
   "source": [
    "##Retturn Statement\n",
    "def add(a, b):\n",
    "    return a + b\n",
    "\n",
    "result = add(5, 3)\n",
    "print(result)  # 8\n"
   ]
  },
  {
   "cell_type": "code",
   "execution_count": 73,
   "id": "89b06e62",
   "metadata": {},
   "outputs": [
    {
     "name": "stdout",
     "output_type": "stream",
     "text": [
      "I have Returned test\n"
     ]
    }
   ],
   "source": [
    "## default statement \n",
    "def return_statement(msg = \"hello\"):\n",
    "    return  f\"I have Returned {msg}\"\n",
    "\n",
    "result = return_statement(\"test\")\n",
    "print(result)"
   ]
  },
  {
   "cell_type": "code",
   "execution_count": 76,
   "id": "9877075e",
   "metadata": {},
   "outputs": [
    {
     "name": "stdout",
     "output_type": "stream",
     "text": [
      "46\n"
     ]
    }
   ],
   "source": [
    "##Variable lenght Arguments\n",
    "def total(*numbers):\n",
    "    return sum(numbers)\n",
    "\n",
    "result = total(1,2,3,4,5,6,7,8,9,1,0)\n",
    "print(result)"
   ]
  },
  {
   "cell_type": "code",
   "execution_count": 82,
   "id": "6b1fe16a",
   "metadata": {},
   "outputs": [
    {
     "name": "stdout",
     "output_type": "stream",
     "text": [
      "6\n"
     ]
    }
   ],
   "source": [
    "#lambda \n",
    "a=1\n",
    "b=2\n",
    "c=3\n",
    "x=lambda a,b,c:a+b+c\n",
    "print(x(a,b,c))\n"
   ]
  },
  {
   "cell_type": "markdown",
   "id": "cec4c7ca",
   "metadata": {},
   "source": [
    "Map, Reduce, Filter\n"
   ]
  },
  {
   "cell_type": "code",
   "execution_count": null,
   "id": "a8207d4b",
   "metadata": {},
   "outputs": [
    {
     "name": "stdout",
     "output_type": "stream",
     "text": [
      "[1, 4, 9, 16, 25, 36, 49, 64]\n"
     ]
    }
   ],
   "source": [
    "#MAP\n",
    "nums= [1,2,3,4,5,6,7,8]\n",
    "squared =list(map(lambda x : x ** 2,nums))\n",
    "print(squared) "
   ]
  },
  {
   "cell_type": "code",
   "execution_count": 83,
   "id": "02a4c7ec",
   "metadata": {},
   "outputs": [
    {
     "name": "stdout",
     "output_type": "stream",
     "text": [
      "21\n"
     ]
    }
   ],
   "source": [
    "#Reduce \n",
    "from functools import reduce\n",
    "nums = [1,2,3,4,5,6]\n",
    "total = reduce(lambda x,y :x+y, nums)\n",
    "print(total)"
   ]
  },
  {
   "cell_type": "markdown",
   "id": "762b9f27",
   "metadata": {},
   "source": [
    "File Handling \n"
   ]
  },
  {
   "cell_type": "code",
   "execution_count": null,
   "id": "c2cde4fd",
   "metadata": {},
   "outputs": [],
   "source": [
    "##Writing In File \n",
    "with open (\"example.txt\",\"w\") as file:\n",
    "    file.write(\"Hello From Sudesh\")\n",
    "    \n",
    "##Reading from  file \n",
    "with open (\"example.txt\",'r') as file:\n",
    "    content = file.read()\n",
    "    print(content)\n",
    "    \n",
    "##Appending on file \n",
    "with open(\"example.txt\", \"a\") as file:\n",
    "    file.write(\"\\nWelcoome From Sudesh.\")\n",
    "\n",
    "    \n",
    "with open (\"example.txt\",'r') as file:\n",
    "        content1 = file.read()\n",
    "        print(content1)"
   ]
  },
  {
   "cell_type": "markdown",
   "id": "56e1a444",
   "metadata": {},
   "source": [
    "Object oriented programming \n"
   ]
  },
  {
   "cell_type": "code",
   "execution_count": null,
   "id": "c50b8ec8",
   "metadata": {},
   "outputs": [],
   "source": [
    "##Classes and Object\n",
    "class Person :\n",
    "    def __init__(self,name,age):\n",
    "        self.name= name\n",
    "        self.age = age\n",
    "        \n",
    "    def selfInfo(self):\n",
    "            print(f\"Hi my name is {self.name} and i am {self.age} years  old\")\n",
    "            \n",
    "p1= Person(\"Sudesh\",23)\n",
    "result =p1.selfInfo()   \n",
    " \n",
    " ##Inheritance\n",
    "\n",
    "class Student :\n",
    "    def __init__(self,marks, subject):\n",
    "        pass\n",
    "    \n",
    "    def selfInfo(self):\n",
    "        print(\"Hello\")\n",
    "                 \n",
    "        \n",
    "s1= Student(\"60\",\"test\")   \n",
    "s1.selfInfo()\n",
    "        "
   ]
  },
  {
   "cell_type": "markdown",
   "id": "c455bed1",
   "metadata": {},
   "source": [
    "Polymorphisum\n"
   ]
  },
  {
   "cell_type": "code",
   "execution_count": null,
   "id": "8cb7ec0b",
   "metadata": {},
   "outputs": [],
   "source": [
    "class Animal :\n",
    "    \n",
    "    def sound(self):\n",
    "        print(\"Animal Sound\")\n",
    "        \n",
    "class Dog ( Animal):\n",
    "    def sound(self):\n",
    "        print(\"Dog Sound\")\n",
    "        \n",
    "d1= Dog()\n",
    "a1= Animal()\n",
    "a1.sound()\n",
    "d1.sound()                "
   ]
  },
  {
   "cell_type": "code",
   "execution_count": 117,
   "id": "5c692074",
   "metadata": {},
   "outputs": [
    {
     "data": {
      "text/plain": [
       "27000"
      ]
     },
     "execution_count": 117,
     "metadata": {},
     "output_type": "execute_result"
    }
   ],
   "source": [
    "##Encapsulation\n",
    "class BankAccount :\n",
    "    def __init__ (self,balance):\n",
    "        self.__balance = balance\n",
    "    def get_balance(self):\n",
    "        return  self.__balance        \n",
    "\n",
    "b1= BankAccount(27000)\n",
    "\n",
    "b1.get_balance()            "
   ]
  },
  {
   "cell_type": "code",
   "execution_count": 122,
   "id": "9f7ce1f6",
   "metadata": {},
   "outputs": [],
   "source": [
    "#Abstration\n",
    "\n",
    "from abc import ABC, abstractmethod\n",
    "\n",
    "class Vehicle(ABC):\n",
    "    @abstractmethod\n",
    "    def start(self):\n",
    "        pass\n"
   ]
  }
 ],
 "metadata": {
  "kernelspec": {
   "display_name": "Python 3",
   "language": "python",
   "name": "python3"
  },
  "language_info": {
   "codemirror_mode": {
    "name": "ipython",
    "version": 3
   },
   "file_extension": ".py",
   "mimetype": "text/x-python",
   "name": "python",
   "nbconvert_exporter": "python",
   "pygments_lexer": "ipython3",
   "version": "3.13.3"
  }
 },
 "nbformat": 4,
 "nbformat_minor": 5
}
