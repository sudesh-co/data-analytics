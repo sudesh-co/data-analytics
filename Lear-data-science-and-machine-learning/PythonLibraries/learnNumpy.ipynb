{
 "cells": [
  {
   "cell_type": "markdown",
   "id": "79decca8",
   "metadata": {},
   "source": [
    "NUMPY\n"
   ]
  },
  {
   "cell_type": "code",
   "execution_count": 4,
   "id": "dd30cb05",
   "metadata": {},
   "outputs": [],
   "source": [
    "import  numpy   as  np"
   ]
  },
  {
   "cell_type": "markdown",
   "id": "a39f79f9",
   "metadata": {},
   "source": [
    "creating a numpy array"
   ]
  },
  {
   "cell_type": "code",
   "execution_count": 5,
   "id": "e76d312f",
   "metadata": {},
   "outputs": [
    {
     "name": "stdout",
     "output_type": "stream",
     "text": [
      "[1 2 3 4 5 6 7]\n",
      "[ 0.  2.  4.  6.  8. 10.]\n",
      "[[0. 0. 0.]\n",
      " [0. 0. 0.]\n",
      " [0. 0. 0.]]\n",
      "[[1. 1. 1. 1.]\n",
      " [1. 1. 1. 1.]]\n",
      "[ 0  4  8 12 16]\n"
     ]
    }
   ],
   "source": [
    "# using  python list form  to numpy array using  np.array method  \n",
    "arr = np.array([1,2,3,4,5,6,7]) \n",
    "print(arr)\n",
    "type(arr)\n",
    "\n",
    "# Using arrange  method  this function was like python  range function but returns numpy array \n",
    "arr = np.arange(0,12,2,float)\n",
    "print(arr)\n",
    "\n",
    "#using zeroes() and ones()  by using this we will crete  array  with zeroes and ones \n",
    "zero_array = np.zeros((3,3))\n",
    "print(zero_array)\n",
    "\n",
    "ones_array = np.ones((2,4))\n",
    "print(ones_array)\n",
    "\n",
    "#using linespace Generate  evenly spaced  array with a specified  intervels \n",
    "line_space_array = np.linspace(0,20,5,0,0,int)\n",
    "print(line_space_array)\n",
    "\n"
   ]
  },
  {
   "cell_type": "markdown",
   "id": "a2325484",
   "metadata": {},
   "source": [
    "Array Opearations \n"
   ]
  },
  {
   "cell_type": "code",
   "execution_count": 6,
   "id": "5e9e4787",
   "metadata": {},
   "outputs": [
    {
     "name": "stdout",
     "output_type": "stream",
     "text": [
      "[ 9 11 13 15 17 19]\n",
      "[ 8 18 30 44 60 78]\n",
      "[0.125      0.22222222 0.3        0.36363636 0.41666667 0.46153846]\n"
     ]
    }
   ],
   "source": [
    "# Element wise opearations its  support operations like add , sub, mult, div \n",
    "arr1= np.array([1,2,3,4,5,6])\n",
    "arr2 = np.array([8,9,10,11,12,13])\n",
    "\n",
    "sub_of_arr =arr1 + arr2 \n",
    "print(sub_of_arr)\n",
    "\n",
    "mult_of_arr=arr1 * arr2\n",
    "print(mult_of_arr)\n",
    "\n",
    "div_of_array = arr1/arr2\n",
    "print(div_of_array)\n"
   ]
  },
  {
   "cell_type": "markdown",
   "id": "841a4888",
   "metadata": {},
   "source": [
    "Universal functions "
   ]
  },
  {
   "cell_type": "code",
   "execution_count": 7,
   "id": "d7ab9bf8",
   "metadata": {},
   "outputs": [
    {
     "name": "stdout",
     "output_type": "stream",
     "text": [
      "[1.         1.41421356 1.73205081 2.        ]\n",
      "[ 2.71828183  7.3890561  20.08553692 54.59815003]\n",
      "[6 7 8 9]\n"
     ]
    }
   ],
   "source": [
    "arr= np.array([1,2,3,4])\n",
    "\n",
    "#square root of an array \n",
    "sqrt_arr = np.sqrt(arr)\n",
    "print(sqrt_arr)\n",
    "\n",
    "#Exponentions \n",
    "exp_arr= np.exp(arr)\n",
    "print(exp_arr)\n",
    "\n",
    "# Broadcasting for example you can add scalar to an array \n",
    "arr2= arr+ 5\n",
    "print(arr2)\n"
   ]
  },
  {
   "cell_type": "markdown",
   "id": "9f2d2f2e",
   "metadata": {},
   "source": [
    "Array Reshaping "
   ]
  },
  {
   "cell_type": "code",
   "execution_count": 14,
   "id": "8aebfd20",
   "metadata": {},
   "outputs": [
    {
     "name": "stdout",
     "output_type": "stream",
     "text": [
      "[1 2 3 4]\n",
      "[[1 2]\n",
      " [3 4]]\n",
      "[1 2 3 4]\n"
     ]
    }
   ],
   "source": [
    "# You can reshape array to fit diffrent dimentions \n",
    "print(arr)\n",
    "reshaped_arr = arr.reshape(2,2)\n",
    "print(reshaped_arr)\n",
    "\n",
    "#Flatening an array convert an multidimentional array in to 1d array \n",
    "flattened_arr =  reshaped_arr.flatten()\n",
    "print(flattened_arr)\n"
   ]
  },
  {
   "cell_type": "markdown",
   "id": "e9ff201b",
   "metadata": {},
   "source": [
    "Indexing and  slicing \n"
   ]
  },
  {
   "cell_type": "code",
   "execution_count": null,
   "id": "bb0311b1",
   "metadata": {},
   "outputs": [
    {
     "name": "stdout",
     "output_type": "stream",
     "text": [
      "3\n"
     ]
    }
   ],
   "source": [
    "arr= np.array([1,2,3,4,5,6,7,8,9])\n",
    "print(arr[2])"
   ]
  },
  {
   "cell_type": "code",
   "execution_count": null,
   "id": "0945ef19",
   "metadata": {},
   "outputs": [
    {
     "name": "stdout",
     "output_type": "stream",
     "text": [
      "[2 3 4]\n",
      "[[4 5 6]]\n"
     ]
    }
   ],
   "source": [
    "#slicing \n",
    "print(arr[1:4]) # last index was exclusive \n",
    "\n",
    "arr2d = np.array([[1, 2, 3], [4, 5, 6], [7, 8, 9]])\n",
    "print(arr2d[1:-1])"
   ]
  },
  {
   "cell_type": "code",
   "execution_count": null,
   "id": "fb4946ec",
   "metadata": {},
   "outputs": [
    {
     "name": "stdout",
     "output_type": "stream",
     "text": [
      "Mean of arr 5.0\n",
      "9\n",
      "2.581988897471611\n"
     ]
    }
   ],
   "source": [
    "#Statistical  operations \n",
    "arr =np.array([1,2,3,4,5,6,7,8,9])\n",
    "\n",
    "#mean of the array \n",
    "mean= np.mean(arr)\n",
    "print(f\"Mean of arr {mean}\")\n",
    "\n",
    "max = np.max(arr)\n",
    "print (max)\n",
    "\n",
    "#standered  deviations \n",
    "std_dev = np.std(arr)\n",
    "print(std_dev)\n"
   ]
  },
  {
   "cell_type": "code",
   "execution_count": 24,
   "id": "75421cc8",
   "metadata": {},
   "outputs": [
    {
     "name": "stdout",
     "output_type": "stream",
     "text": [
      "[[0.97545646 0.16157958 0.87088307 0.06042369 0.10118972 0.44399699\n",
      "  0.34590218 0.21194887 0.14866119 0.56250548 0.29570893 0.15515252\n",
      "  0.45714637 0.00216673 0.53022932 0.0132174  0.7919988  0.81661159\n",
      "  0.86799279 0.73602219]\n",
      " [0.90559927 0.45277289 0.72968854 0.99201165 0.28752428 0.94627757\n",
      "  0.3764268  0.71567375 0.32790566 0.21863679 0.65190385 0.92858919\n",
      "  0.20456095 0.00522211 0.37207496 0.59444005 0.15974498 0.71666522\n",
      "  0.87084298 0.10930105]]\n",
      "[[5 8 8 1 7 8 4 2 3 5]\n",
      " [4 8 9 9 4 6 5 6 8 8]]\n"
     ]
    }
   ],
   "source": [
    "#Random Numbers with python  \n",
    "random_arr = np.random.random((2,20))\n",
    "print(random_arr)\n",
    "\n",
    "#Random Integer\n",
    "randome_int_arr = np.random.randint(1,10,(2,10))\n",
    "print(randome_int_arr)"
   ]
  }
 ],
 "metadata": {
  "kernelspec": {
   "display_name": "Python 3",
   "language": "python",
   "name": "python3"
  },
  "language_info": {
   "codemirror_mode": {
    "name": "ipython",
    "version": 3
   },
   "file_extension": ".py",
   "mimetype": "text/x-python",
   "name": "python",
   "nbconvert_exporter": "python",
   "pygments_lexer": "ipython3",
   "version": "3.13.3"
  }
 },
 "nbformat": 4,
 "nbformat_minor": 5
}
