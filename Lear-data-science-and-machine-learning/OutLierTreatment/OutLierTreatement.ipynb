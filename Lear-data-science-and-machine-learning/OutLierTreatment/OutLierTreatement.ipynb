{
 "cells": [
  {
   "cell_type": "markdown",
   "id": "4fad2473",
   "metadata": {},
   "source": [
    "OutLier Treatement "
   ]
  },
  {
   "cell_type": "code",
   "execution_count": 5,
   "id": "6cf38cf6",
   "metadata": {},
   "outputs": [],
   "source": [
    "import pandas as pd\n",
    "import statistics \n",
    "import matplotlib.pyplot as plt \n"
   ]
  },
  {
   "cell_type": "code",
   "execution_count": 40,
   "id": "2838aaf1",
   "metadata": {},
   "outputs": [
    {
     "name": "stdout",
     "output_type": "stream",
     "text": [
      "<class 'pandas.core.frame.DataFrame'>\n",
      "RangeIndex: 2823 entries, 0 to 2822\n",
      "Data columns (total 25 columns):\n",
      " #   Column            Non-Null Count  Dtype  \n",
      "---  ------            --------------  -----  \n",
      " 0   ORDERNUMBER       2823 non-null   int64  \n",
      " 1   QUANTITYORDERED   2823 non-null   int64  \n",
      " 2   PRICEEACH         2823 non-null   float64\n",
      " 3   ORDERLINENUMBER   2823 non-null   int64  \n",
      " 4   SALES             2823 non-null   float64\n",
      " 5   ORDERDATE         2823 non-null   object \n",
      " 6   STATUS            2823 non-null   object \n",
      " 7   QTR_ID            2823 non-null   int64  \n",
      " 8   MONTH_ID          2823 non-null   int64  \n",
      " 9   YEAR_ID           2823 non-null   int64  \n",
      " 10  PRODUCTLINE       2823 non-null   object \n",
      " 11  MSRP              2823 non-null   int64  \n",
      " 12  PRODUCTCODE       2823 non-null   object \n",
      " 13  CUSTOMERNAME      2823 non-null   object \n",
      " 14  PHONE             2823 non-null   object \n",
      " 15  ADDRESSLINE1      2823 non-null   object \n",
      " 16  ADDRESSLINE2      302 non-null    object \n",
      " 17  CITY              2823 non-null   object \n",
      " 18  STATE             1337 non-null   object \n",
      " 19  POSTALCODE        2747 non-null   object \n",
      " 20  COUNTRY           2823 non-null   object \n",
      " 21  TERRITORY         1749 non-null   object \n",
      " 22  CONTACTLASTNAME   2823 non-null   object \n",
      " 23  CONTACTFIRSTNAME  2823 non-null   object \n",
      " 24  DEALSIZE          2823 non-null   object \n",
      "dtypes: float64(2), int64(7), object(16)\n",
      "memory usage: 551.5+ KB\n"
     ]
    }
   ],
   "source": [
    "file_path = '../files/sales_data_sample.csv'\n",
    "\n",
    "df = pd.read_csv(file_path, encoding='ISO-8859-1')\n",
    "\n",
    "df.info()\n"
   ]
  },
  {
   "cell_type": "code",
   "execution_count": 39,
   "id": "3bce5889",
   "metadata": {},
   "outputs": [
    {
     "name": "stdout",
     "output_type": "stream",
     "text": [
      "-1971.706245311229 9079.484389129862\n",
      "5525.595317220545\n",
      "[10993.5, 10172.7, 11623.7, 12001.0, 9264.86, 9774.03, 11886.6, 9218.16, 9661.44, 9245.76, 9160.36, 9631.0, 11279.2, 10606.2, 9470.94, 9240.44, 14082.8, 9169.0, 12536.5, 9534.5, 11887.8, 11336.7, 10468.9, 9720.0, 10758.0, 11739.7, 9240.0, 10039.6, 10066.6, 9558.8]\n"
     ]
    },
    {
     "data": {
      "text/plain": [
       "30"
      ]
     },
     "execution_count": 39,
     "metadata": {},
     "output_type": "execute_result"
    }
   ],
   "source": [
    "#function to detect outlier\n",
    "\n",
    "def detect_outlier(data):\n",
    "    anomalies = []\n",
    "    \n",
    "    random_data_stdv = statistics.stdev(data)\n",
    "    random_data_mean = statistics.mean(data)\n",
    "    \n",
    "    anomaly_threshold = random_data_stdv * 3\n",
    "    lower_bound = random_data_mean - anomaly_threshold\n",
    "    upper_bound = random_data_mean + anomaly_threshold\n",
    "    print(lower_bound,upper_bound)\n",
    "    print(anomaly_threshold)\n",
    "    \n",
    "    \n",
    "    # Genarate anomalies\n",
    "    for value in data:\n",
    "        if value < lower_bound or value > upper_bound:\n",
    "            anomalies.append(value)\n",
    "    return anomalies\n",
    "\n",
    "anomaly = detect_outlier(df[\"SALES\"])\n",
    "print(anomaly)\n",
    "len(anomaly)\n",
    "\n"
   ]
  },
  {
   "cell_type": "code",
   "execution_count": null,
   "id": "00fee081",
   "metadata": {},
   "outputs": [],
   "source": []
  }
 ],
 "metadata": {
  "kernelspec": {
   "display_name": "Python 3",
   "language": "python",
   "name": "python3"
  },
  "language_info": {
   "codemirror_mode": {
    "name": "ipython",
    "version": 3
   },
   "file_extension": ".py",
   "mimetype": "text/x-python",
   "name": "python",
   "nbconvert_exporter": "python",
   "pygments_lexer": "ipython3",
   "version": "3.13.3"
  }
 },
 "nbformat": 4,
 "nbformat_minor": 5
}
