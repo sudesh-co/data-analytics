{
 "cells": [
  {
   "cell_type": "markdown",
   "id": "92d8fef4",
   "metadata": {},
   "source": [
    "Feature Scaling"
   ]
  },
  {
   "cell_type": "code",
   "execution_count": null,
   "id": "bee1e9f8",
   "metadata": {},
   "outputs": [
    {
     "name": "stdout",
     "output_type": "stream",
     "text": [
      "^C\n"
     ]
    },
    {
     "ename": "ModuleNotFoundError",
     "evalue": "No module named 'sklearn'",
     "output_type": "error",
     "traceback": [
      "\u001b[31m---------------------------------------------------------------------------\u001b[39m",
      "\u001b[31mModuleNotFoundError\u001b[39m                       Traceback (most recent call last)",
      "\u001b[36mCell\u001b[39m\u001b[36m \u001b[39m\u001b[32mIn[17]\u001b[39m\u001b[32m, line 6\u001b[39m\n\u001b[32m      4\u001b[39m \u001b[38;5;28;01mimport\u001b[39;00m\u001b[38;5;250m \u001b[39m\u001b[34;01mmatplotlib\u001b[39;00m\u001b[34;01m.\u001b[39;00m\u001b[34;01mpyplot\u001b[39;00m\u001b[38;5;250m \u001b[39m\u001b[38;5;28;01mas\u001b[39;00m\u001b[38;5;250m \u001b[39m\u001b[34;01mplt\u001b[39;00m \n\u001b[32m      5\u001b[39m \u001b[38;5;28;01mimport\u001b[39;00m\u001b[38;5;250m \u001b[39m\u001b[34;01mseaborn\u001b[39;00m\u001b[38;5;250m \u001b[39m\u001b[38;5;28;01mas\u001b[39;00m\u001b[38;5;250m  \u001b[39m\u001b[34;01msns\u001b[39;00m \n\u001b[32m----> \u001b[39m\u001b[32m6\u001b[39m \u001b[38;5;28;01mimport\u001b[39;00m\u001b[38;5;250m \u001b[39m\u001b[34;01msklearn\u001b[39;00m\n",
      "\u001b[31mModuleNotFoundError\u001b[39m: No module named 'sklearn'"
     ]
    }
   ],
   "source": [
    "!pip install scikit-learn\n",
    "import pandas as pd \n",
    "import numpy as np \n",
    "import matplotlib.pyplot as plt \n",
    "import seaborn as  sns \n",
    "import sklearn\n"
   ]
  },
  {
   "cell_type": "code",
   "execution_count": 2,
   "id": "eb1557e0",
   "metadata": {},
   "outputs": [
    {
     "name": "stdout",
     "output_type": "stream",
     "text": [
      "<class 'pandas.core.frame.DataFrame'>\n",
      "RangeIndex: 10000 entries, 0 to 9999\n",
      "Data columns (total 14 columns):\n",
      " #   Column           Non-Null Count  Dtype  \n",
      "---  ------           --------------  -----  \n",
      " 0   RowNumber        10000 non-null  int64  \n",
      " 1   CustomerId       10000 non-null  int64  \n",
      " 2   Surname          10000 non-null  object \n",
      " 3   CreditScore      10000 non-null  int64  \n",
      " 4   Geography        10000 non-null  object \n",
      " 5   Gender           10000 non-null  object \n",
      " 6   Age              10000 non-null  int64  \n",
      " 7   Tenure           10000 non-null  int64  \n",
      " 8   Balance          10000 non-null  float64\n",
      " 9   NumOfProducts    10000 non-null  int64  \n",
      " 10  HasCrCard        10000 non-null  int64  \n",
      " 11  IsActiveMember   10000 non-null  int64  \n",
      " 12  EstimatedSalary  10000 non-null  float64\n",
      " 13  Exited           10000 non-null  int64  \n",
      "dtypes: float64(2), int64(9), object(3)\n",
      "memory usage: 1.1+ MB\n"
     ]
    }
   ],
   "source": [
    "df = pd.read_csv('../files/Churn_Modelling.csv')\n",
    "df.info()"
   ]
  },
  {
   "cell_type": "code",
   "execution_count": 18,
   "id": "bbe149f8",
   "metadata": {},
   "outputs": [
    {
     "name": "stdout",
     "output_type": "stream",
     "text": [
      "Defaulting to user installation because normal site-packages is not writeable\n",
      "Collecting scikit-learn\n",
      "  Using cached scikit_learn-1.6.1-cp313-cp313-win_amd64.whl.metadata (15 kB)\n",
      "Requirement already satisfied: numpy>=1.19.5 in c:\\users\\asus\\appdata\\local\\packages\\pythonsoftwarefoundation.python.3.13_qbz5n2kfra8p0\\localcache\\local-packages\\python313\\site-packages (from scikit-learn) (2.2.1)\n",
      "Collecting scipy>=1.6.0 (from scikit-learn)\n",
      "  Downloading scipy-1.15.2-cp313-cp313-win_amd64.whl.metadata (60 kB)\n",
      "Requirement already satisfied: joblib>=1.2.0 in c:\\users\\asus\\appdata\\local\\packages\\pythonsoftwarefoundation.python.3.13_qbz5n2kfra8p0\\localcache\\local-packages\\python313\\site-packages (from scikit-learn) (1.4.2)\n",
      "Collecting threadpoolctl>=3.1.0 (from scikit-learn)\n",
      "  Downloading threadpoolctl-3.6.0-py3-none-any.whl.metadata (13 kB)\n",
      "Downloading scikit_learn-1.6.1-cp313-cp313-win_amd64.whl (11.1 MB)\n",
      "   ---------------------------------------- 0.0/11.1 MB ? eta -:--:--\n",
      "   ----- ---------------------------------- 1.6/11.1 MB 8.3 MB/s eta 0:00:02\n",
      "   ------------ --------------------------- 3.4/11.1 MB 8.3 MB/s eta 0:00:01\n",
      "   ------------------ --------------------- 5.2/11.1 MB 8.4 MB/s eta 0:00:01\n",
      "   ------------------------ --------------- 6.8/11.1 MB 8.4 MB/s eta 0:00:01\n",
      "   ------------------------------- -------- 8.7/11.1 MB 8.3 MB/s eta 0:00:01\n",
      "   ----------------------------------- ---- 10.0/11.1 MB 7.8 MB/s eta 0:00:01\n",
      "   ---------------------------------------  11.0/11.1 MB 7.5 MB/s eta 0:00:01\n",
      "   ---------------------------------------- 11.1/11.1 MB 7.3 MB/s eta 0:00:00\n",
      "Downloading scipy-1.15.2-cp313-cp313-win_amd64.whl (41.0 MB)\n",
      "   ---------------------------------------- 0.0/41.0 MB ? eta -:--:--\n",
      "   - -------------------------------------- 1.3/41.0 MB 9.8 MB/s eta 0:00:05\n",
      "   -- ------------------------------------- 2.9/41.0 MB 7.5 MB/s eta 0:00:06\n",
      "   --- ------------------------------------ 3.7/41.0 MB 7.1 MB/s eta 0:00:06\n",
      "   ----- ---------------------------------- 5.8/41.0 MB 7.3 MB/s eta 0:00:05\n",
      "   ------ --------------------------------- 6.8/41.0 MB 6.9 MB/s eta 0:00:05\n",
      "   ------- -------------------------------- 7.6/41.0 MB 6.5 MB/s eta 0:00:06\n",
      "   -------- ------------------------------- 8.7/41.0 MB 6.2 MB/s eta 0:00:06\n",
      "   ---------- ----------------------------- 10.5/41.0 MB 6.5 MB/s eta 0:00:05\n",
      "   ----------- ---------------------------- 11.8/41.0 MB 6.6 MB/s eta 0:00:05\n",
      "   ------------- -------------------------- 13.4/41.0 MB 6.7 MB/s eta 0:00:05\n",
      "   -------------- ------------------------- 14.9/41.0 MB 6.8 MB/s eta 0:00:04\n",
      "   ---------------- ----------------------- 16.5/41.0 MB 6.8 MB/s eta 0:00:04\n",
      "   ----------------- ---------------------- 18.1/41.0 MB 6.9 MB/s eta 0:00:04\n",
      "   ------------------- -------------------- 19.7/41.0 MB 6.9 MB/s eta 0:00:04\n",
      "   -------------------- ------------------- 21.0/41.0 MB 6.9 MB/s eta 0:00:03\n",
      "   ---------------------- ----------------- 22.5/41.0 MB 6.9 MB/s eta 0:00:03\n",
      "   ----------------------- ---------------- 24.4/41.0 MB 7.0 MB/s eta 0:00:03\n",
      "   ------------------------- -------------- 26.2/41.0 MB 7.1 MB/s eta 0:00:03\n",
      "   --------------------------- ------------ 27.8/41.0 MB 7.1 MB/s eta 0:00:02\n",
      "   ---------------------------- ----------- 29.4/41.0 MB 7.2 MB/s eta 0:00:02\n",
      "   ------------------------------ --------- 30.9/41.0 MB 7.2 MB/s eta 0:00:02\n",
      "   ------------------------------- -------- 32.5/41.0 MB 7.2 MB/s eta 0:00:02\n",
      "   --------------------------------- ------ 33.8/41.0 MB 7.2 MB/s eta 0:00:01\n",
      "   ---------------------------------- ----- 35.7/41.0 MB 7.2 MB/s eta 0:00:01\n",
      "   ------------------------------------ --- 37.2/41.0 MB 7.2 MB/s eta 0:00:01\n",
      "   ------------------------------------- -- 38.8/41.0 MB 7.3 MB/s eta 0:00:01\n",
      "   ---------------------------------------  40.4/41.0 MB 7.3 MB/s eta 0:00:01\n",
      "   ---------------------------------------- 41.0/41.0 MB 7.1 MB/s eta 0:00:00\n",
      "Downloading threadpoolctl-3.6.0-py3-none-any.whl (18 kB)\n",
      "Installing collected packages: threadpoolctl, scipy, scikit-learn\n",
      "Successfully installed scikit-learn-1.6.1 scipy-1.15.2 threadpoolctl-3.6.0\n"
     ]
    }
   ],
   "source": [
    "from sklearn.preprocessing import StandardScaler\n",
    "from sklearn.preprocessing import MinMaxScaler\n"
   ]
  },
  {
   "cell_type": "markdown",
   "id": "93d7b09a",
   "metadata": {},
   "source": [
    "1)Standardization  - Standerdization / zero score normalization are refers to the process of scalling data such that it has a mean of 0 and stander deviation of 1 , It ensures that the data is centered arround zero and has consistant scale which is immportant for algorithum that assume normaly distributed data or use distance based calculations (like k-nearest neighbors , SVM)\n",
    "\n",
    "2)Normalization:\n",
    "Normalization (or Min-Max scaling) refers to the process of scaling data into a specific range, typically [0, 1]. This is done by adjusting the data such that the minimum value becomes 0 and the maximum value becomes 1, making all the values comparable."
   ]
  },
  {
   "cell_type": "code",
   "execution_count": 21,
   "id": "53f17711",
   "metadata": {},
   "outputs": [
    {
     "name": "stdout",
     "output_type": "stream",
     "text": [
      "<class 'pandas.core.frame.DataFrame'>\n",
      "RangeIndex: 10000 entries, 0 to 9999\n",
      "Data columns (total 2 columns):\n",
      " #   Column  Non-Null Count  Dtype\n",
      "---  ------  --------------  -----\n",
      " 0   Age     10000 non-null  int64\n",
      " 1   Tenure  10000 non-null  int64\n",
      "dtypes: int64(2)\n",
      "memory usage: 156.4 KB\n"
     ]
    }
   ],
   "source": [
    "#we want age and  gender so we can create the separate dataframe for that \n",
    "df1= df[['Age' , 'Tenure']]\n",
    "df1.info()"
   ]
  },
  {
   "cell_type": "code",
   "execution_count": 23,
   "id": "04a5222b",
   "metadata": {},
   "outputs": [
    {
     "data": {
      "text/plain": [
       "array([[0.32432432, 0.2       ],\n",
       "       [0.31081081, 0.1       ],\n",
       "       [0.32432432, 0.8       ],\n",
       "       ...,\n",
       "       [0.24324324, 0.7       ],\n",
       "       [0.32432432, 0.3       ],\n",
       "       [0.13513514, 0.4       ]], shape=(10000, 2))"
      ]
     },
     "execution_count": 23,
     "metadata": {},
     "output_type": "execute_result"
    }
   ],
   "source": [
    "#Instantiation of Min max scalar \n",
    "scaler = MinMaxScaler()\n",
    "normalised_df = scaler.fit_transform(df1)\n",
    "normalised_df\n"
   ]
  },
  {
   "cell_type": "code",
   "execution_count": 53,
   "id": "cdae3027",
   "metadata": {},
   "outputs": [
    {
     "data": {
      "text/plain": [
       "array([[0., 0., 1., 1., 0., 0., 0., 1., 0., 0.],\n",
       "       [1., 1., 0., 0., 1., 0., 1., 0., 1., 1.]])"
      ]
     },
     "execution_count": 53,
     "metadata": {},
     "output_type": "execute_result"
    }
   ],
   "source": [
    "x_arry= np.random.randint(1,10,(2,10))  \n",
    "norm_array = scaler.fit_transform(x_arry)\n",
    "norm_array"
   ]
  }
 ],
 "metadata": {
  "kernelspec": {
   "display_name": "Python 3",
   "language": "python",
   "name": "python3"
  },
  "language_info": {
   "codemirror_mode": {
    "name": "ipython",
    "version": 3
   },
   "file_extension": ".py",
   "mimetype": "text/x-python",
   "name": "python",
   "nbconvert_exporter": "python",
   "pygments_lexer": "ipython3",
   "version": "3.13.3"
  }
 },
 "nbformat": 4,
 "nbformat_minor": 5
}
